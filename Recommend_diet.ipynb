{
  "cells": [
    {
      "cell_type": "code",
      "execution_count": null,
      "metadata": {
        "id": "bStQOhARi1Gs"
      },
      "outputs": [],
      "source": [
        "from sklearn.preprocessing import StandardScaler\n",
        "import numpy as np # linear algebra\n",
        "import os # accessing directory structure\n",
        "import pandas as pd # data processing, CSV file I/O (e.g. pd.read_csv)"
      ]
    },
    {
      "cell_type": "code",
      "execution_count": null,
      "metadata": {},
      "outputs": [],
      "source": [
        "import mysql.connector\n",
        "import pandas as pd\n",
        "\n",
        "import json\n",
        "\n",
        "with open('config.json') as f:\n",
        "    config = json.load(f)\n",
        "\n",
        "\n",
        "cnx = mysql.connector.connect(user=config['user'],\n",
        "                              password=config['password'],\n",
        "                              host=config['host'],\n",
        "                              database=config['database'])\n",
        "\n",
        "cursor = cnx.cursor()\n",
        "\n",
        "# Example query\n",
        "query = (\"SELECT * FROM PH_Temp_Diet\")\n",
        "\n",
        "cursor.execute(query)\n",
        "\n",
        "# Fetch the rows\n",
        "rows = cursor.fetchall()\n",
        "\n",
        "# Create a pandas DataFrame\n",
        "data = pd.DataFrame(rows, columns=[desc[0] for desc in cursor.description])\n",
        "\n",
        "\n",
        "cursor.close()\n",
        "cnx.close()"
      ]
    },
    {
      "cell_type": "code",
      "execution_count": null,
      "metadata": {},
      "outputs": [],
      "source": [
        "df3 =data\n",
        "df3 = df3.drop(['id'], axis=1)\n",
        "\n",
        "# Pivot the data to create columns for each unique food_name\n",
        "pivoted_data = df3.pivot_table(index=['person_id', 'date','PH','temperature'], columns='food_name', values='amount')\n",
        "pivoted_data = pivoted_data.drop('person_id', axis=1)\n",
        "pivoted_data = pivoted_data.reset_index()\n",
        "# Rename columns to remove the 'food_name' label prefix\n",
        "pivoted_data.columns.name = None\n",
        "pivoted_data.columns = pivoted_data.columns.str.replace('food_name_', '')\n",
        "\n",
        "# # Join the pivoted data with the original data on the 'person_id' and 'date' columns\n",
        "joined_data = pd.merge(data.drop(columns=['food_name', 'amount','id']), pivoted_data, on=['person_id', 'date','temperature','PH'])\n",
        "\n",
        "# # Save the joined data to a new CSV file\n",
        "#df3 = pivoted_data\n",
        "# Group by 'person_id' and 'date', and aggregate the other columns\n",
        "grouped_df = joined_data.groupby(['person_id', 'date','temperature','PH'], as_index=False);\n",
        "joined_data = joined_data.drop_duplicates()\n",
        "joined_data"
      ]
    },
    {
      "cell_type": "markdown",
      "metadata": {
        "id": "ScnDOgCS7oBg"
      },
      "source": []
    },
    {
      "cell_type": "code",
      "execution_count": null,
      "metadata": {},
      "outputs": [],
      "source": [
        "from sklearn.model_selection import train_test_split\n",
        "\n",
        "X= joined_data.iloc[:,0:1]\n",
        "X"
      ]
    },
    {
      "cell_type": "code",
      "execution_count": null,
      "metadata": {},
      "outputs": [],
      "source": [
        "y = joined_data.iloc[:,5:]\n",
        "y"
      ]
    },
    {
      "cell_type": "code",
      "execution_count": null,
      "metadata": {},
      "outputs": [],
      "source": [
        "y = data.groupby(['person_id', 'date'])[['food_name', 'amount']].agg(list)\n",
        "# Reset the index\n",
        "y = y.reset_index()\n",
        "\n",
        "# Custom function to combine food_name and amount into one list\n",
        "def combine_food_and_amount(food_names, amounts):\n",
        "    combined = []\n",
        "    for food, amount in zip(food_names, amounts):\n",
        "        if amount != 0:\n",
        "            amount = 1\n",
        "        combined.append((food, amount))\n",
        "    return combined\n",
        "\n",
        "# Apply the custom function to combine food_name and amount columns\n",
        "y['food_and_amount'] = y.apply(lambda row: combine_food_and_amount(row['food_name'], row['amount']), axis=1)\n",
        "\n",
        "# Drop the food_name and amount columns\n",
        "y = y.drop(['food_name', 'amount','person_id','date'], axis=1)\n",
        "\n",
        "# Print the modified DataFrame\n",
        "print(y.head(5))"
      ]
    },
    {
      "cell_type": "code",
      "execution_count": null,
      "metadata": {},
      "outputs": [],
      "source": [
        "df = pd.DataFrame(y)\n",
        "df2 = pd.DataFrame(X)\n",
        "# convert column 'A' to a tuple\n",
        "food_and_amount = tuple(df['food_and_amount'].tolist())\n",
        "ph = tuple(df2['PH'].tolist())\n",
        "print(ph)"
      ]
    },
    {
      "cell_type": "code",
      "execution_count": null,
      "metadata": {},
      "outputs": [],
      "source": [
        "food_and_amount"
      ]
    },
    {
      "cell_type": "code",
      "execution_count": null,
      "metadata": {},
      "outputs": [],
      "source": [
        "import pandas as pd\n",
        "from mlxtend.preprocessing import TransactionEncoder\n",
        "from mlxtend.frequent_patterns import apriori, association_rules\n",
        "\n",
        "data = pd.DataFrame({\n",
        "    'pH_level': ph,\n",
        "    'food_and_activities': food_and_amount\n",
        "})\n",
        "\n",
        "def categorize_pH(pH):\n",
        "    if pH < 7.0:\n",
        "        return \"acidic\"\n",
        "    elif pH > 7.0:\n",
        "        return \"alkaline\"\n",
        "    else:\n",
        "        return \"neutral\"\n",
        "\n",
        "data['pH_category'] = data['pH_level'].apply(categorize_pH)\n",
        "\n",
        "def binary_representation(row):\n",
        "    binary_list = [row['pH_category']]\n",
        "    for food, amount in row['food_and_activities']:\n",
        "        if amount > 0:\n",
        "            binary_list.append(food)\n",
        "    return binary_list\n",
        "\n",
        "data['binary'] = data.apply(binary_representation, axis=1)\n",
        "\n",
        "transactions = data['binary'].tolist()\n",
        "\n",
        "te = TransactionEncoder()\n",
        "te_ary = te.fit(transactions).transform(transactions)\n",
        "binary_df = pd.DataFrame(te_ary, columns=te.columns_)\n",
        "\n",
        "frequent_itemsets = apriori(binary_df, min_support=0.1, use_colnames=True)\n",
        "rules = association_rules(frequent_itemsets, metric=\"confidence\", min_threshold=0.01)\n",
        "\n",
        "# Filter the rules based on the antecedent (left-hand side) containing the pH category \"acidic\"\n",
        "acidic_rules = rules[rules['antecedents'].apply(lambda x: 'acidic' in x)]\n",
        "alkaline_rules = rules[rules['antecedents'].apply(lambda x: 'alkaline' in x)]\n",
        "\n",
        "print(alkaline_rules)\n"
      ]
    },
    {
      "cell_type": "code",
      "execution_count": null,
      "metadata": {},
      "outputs": [],
      "source": [
        "def recommend_food_and_activities(pH_level, rules):\n",
        "    pH_category = categorize_pH(pH_level)\n",
        "\n",
        "    # Filter the rules based on the antecedent (left-hand side) containing the pH category\n",
        "    recommendations = rules[rules['antecedents'].apply(lambda x: pH_category in x)]\n",
        "\n",
        "    # Sort the rules by confidence and select the top 5 rules\n",
        "    top_recommendations = recommendations.sort_values(by='confidence', ascending=False).head(5)\n",
        "\n",
        "    # Extract the consequents (right-hand side) of the rules\n",
        "    recommended_items = set()\n",
        "    for _, row in top_recommendations.iterrows():\n",
        "        recommended_items.update(row['consequents'])\n",
        "\n",
        "    # Remove the pH category from the recommended items\n",
        "    recommended_items.discard(pH_category)\n",
        "\n",
        "    return list(recommended_items)\n"
      ]
    },
    {
      "cell_type": "code",
      "execution_count": null,
      "metadata": {},
      "outputs": [],
      "source": [
        "# Example usage\n",
        "urine_pH = 9 # Replace this with the actual pH level data from the sensor\n",
        "recommended_items = recommend_food_and_activities(urine_pH, alkaline_rules)\n",
        "print(\"Recommended food and activities:\", recommended_items)"
      ]
    },
    {
      "cell_type": "code",
      "execution_count": null,
      "metadata": {},
      "outputs": [],
      "source": [
        "import joblib\n",
        "\n",
        "# Save the association rules DataFrame to a file\n",
        "joblib.dump(alkaline_rules, 'alkaline_rules.joblib')"
      ]
    },
    {
      "cell_type": "code",
      "execution_count": 27,
      "metadata": {},
      "outputs": [
        {
          "name": "stdout",
          "output_type": "stream",
          "text": [
            "Recommended food and activities: ['Liquid', 'Fruit tea']\n"
          ]
        }
      ],
      "source": [
        "import joblib\n",
        "\n",
        "# Load the saved association rules DataFrame from a file\n",
        "loaded_alkaline_rules = joblib.load('alkaline_rules.joblib')\n",
        "\n",
        "# Use the loaded rules in the recommend_food_and_activities function\n",
        "urine_pH = 9  # Replace this with the actual pH level data from the sensor\n",
        "recommended_items = recommend_food_and_activities(urine_pH, loaded_alkaline_rules)\n",
        "print(\"Recommended food and activities:\", recommended_items)\n",
        "\n",
        "\n"
      ]
    },
    {
      "cell_type": "markdown",
      "metadata": {},
      "source": []
    }
  ],
  "metadata": {
    "colab": {
      "provenance": [],
      "toc_visible": true
    },
    "kernelspec": {
      "display_name": "Python 3",
      "name": "python3"
    },
    "language_info": {
      "codemirror_mode": {
        "name": "ipython",
        "version": 3
      },
      "file_extension": ".py",
      "mimetype": "text/x-python",
      "name": "python",
      "nbconvert_exporter": "python",
      "pygments_lexer": "ipython3",
      "version": "3.9.10"
    }
  },
  "nbformat": 4,
  "nbformat_minor": 0
}
